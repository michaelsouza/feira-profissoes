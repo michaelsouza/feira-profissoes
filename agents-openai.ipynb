{
 "cells": [
  {
   "cell_type": "markdown",
   "metadata": {},
   "source": [
    "# Models\n",
    "\n",
    "| Model                  | Description                                                                                           | Context window | Max output tokens | Training data     | 1M Tokens(USD)  |\n",
    "|------------------------|-------------------------------------------------------------------------------------------------------|----------------|-------------------|-------------------|----|\n",
    "| gpt-4o            | GPT-4o: Our high-intelligence flagship model for complex, multi-step tasks. GPT-4o is cheaper and faster than GPT-4 Turbo. Currently points to gpt-4o-2024-05-13. | 128,000 tokens | 4,096 tokens     | Up to Oct 2023    | $5.00 input, $15.00 output |\n",
    "| gpt-4o-mini            | Our affordable and intelligent small model for fast, lightweight tasks. GPT-4o mini is cheaper and more capable than GPT-3.5 Turbo. Currently points to gpt-4o-mini-2024-07-18. | 128,000 tokens | 16,384 tokens     | Up to Oct 2023    | $0.15 input, $0.60 output |"
   ]
  },
  {
   "cell_type": "code",
   "execution_count": 8,
   "metadata": {},
   "outputs": [],
   "source": [
    "import json\n",
    "import sympy as sp\n",
    "import numpy as np\n",
    "import scipy as sc\n",
    "from openai import OpenAI\n",
    "from textwrap import dedent\n",
    "from dotenv import load_dotenv\n",
    "\n",
    "load_dotenv()\n",
    "\n",
    "client = OpenAI()\n",
    "\n",
    "# MODEL = \"gpt-4o\" # expensive, larger model\n",
    "MODEL = \"gpt-4o-mini\" # affordable, smaller model"
   ]
  },
  {
   "cell_type": "code",
   "execution_count": 11,
   "metadata": {},
   "outputs": [],
   "source": [
    "math_tutor_prompt = '''\n",
    "    You are a helpful math tutor. You will be provided with a math problem,\n",
    "    and your goal will be to output a step by step solution, along with a final answer.\n",
    "    For each step, just provide the output as an equation use the explanation field to detail the reasoning.\n",
    "    If the problem is too hard, you can use python packages like sympy, numpy, scipy or even scikit-learn to help you solve it.\n",
    "    You have a code interpreter available to you, so you can use it to help you solve the problem.\n",
    "'''\n",
    "\n",
    "user_question = \"How can I solve 8x + 7 = -23\""
   ]
  },
  {
   "cell_type": "code",
   "execution_count": 10,
   "metadata": {},
   "outputs": [],
   "source": [
    "from IPython.display import Math, display\n",
    "\n",
    "def print_math_solution(response):\n",
    "    result = json.loads(response)\n",
    "    steps = result['steps']\n",
    "    final_answer = result['final_answer']\n",
    "    for i in range(len(steps)):\n",
    "        print(f\"Step {i+1}: {steps[i]['explanation']}\\n\")\n",
    "        display(Math(steps[i]['output']))\n",
    "        print(\"\\n\")\n",
    "    print(f\"Final Answer: {final_answer}\")\n",
    "    display(Math(final_answer))"
   ]
  },
  {
   "cell_type": "markdown",
   "metadata": {},
   "source": [
    "# Solution using chat.completion"
   ]
  },
  {
   "cell_type": "code",
   "execution_count": 24,
   "metadata": {},
   "outputs": [],
   "source": [
    "from pydantic import BaseModel\n",
    "from typing import List\n",
    "\n",
    "class MathReasoning(BaseModel):\n",
    "    class Step(BaseModel):\n",
    "        step_num: int\n",
    "        explanation: str\n",
    "        output: str\n",
    "\n",
    "    steps: List[Step]\n",
    "    final_answer: str\n",
    "\n",
    "def get_math_solution(question: str) -> MathReasoning:\n",
    "    completion = client.beta.chat.completions.parse(\n",
    "        model=MODEL,\n",
    "        messages=[\n",
    "            {\"role\": \"system\", \"content\": dedent(math_tutor_prompt)},\n",
    "            {\"role\": \"user\", \"content\": question}\n",
    "        ],\n",
    "        response_format=MathReasoning\n",
    "    )\n",
    "    return completion.choices[0].message"
   ]
  },
  {
   "cell_type": "code",
   "execution_count": 25,
   "metadata": {},
   "outputs": [],
   "source": [
    "def print_reasoning(result: MathReasoning) -> None:\n",
    "    for i, step in enumerate(sorted(result.steps, key=lambda x: x.step_num)):\n",
    "        print(f\"Step {i+1}: {step.explanation}\\n\")\n",
    "        display(Math(step.output))\n",
    "        print(\"\\n\")\n",
    "    print(f\"Final Answer: {result.final_answer}\")"
   ]
  },
  {
   "cell_type": "code",
   "execution_count": 26,
   "metadata": {},
   "outputs": [],
   "source": [
    "result = get_math_solution(user_question).parsed"
   ]
  },
  {
   "cell_type": "code",
   "execution_count": null,
   "metadata": {},
   "outputs": [],
   "source": [
    "print_reasoning(result)"
   ]
  },
  {
   "cell_type": "markdown",
   "metadata": {},
   "source": [
    "# Solution using assistant"
   ]
  },
  {
   "cell_type": "code",
   "execution_count": 19,
   "metadata": {},
   "outputs": [],
   "source": [
    "import time\n",
    "\n",
    "def check_run_status(thread_id, run_id):\n",
    "    while True:\n",
    "        # Retrieve the current status of the run\n",
    "        run = client.beta.threads.runs.retrieve(\n",
    "            thread_id=thread_id,\n",
    "            run_id=run_id\n",
    "        )\n",
    "        \n",
    "        # Check if the run requires an action\n",
    "        if run.status == \"requires_action\":\n",
    "            print(\"The assistant is waiting for an action.\")\n",
    "            return run\n",
    "        \n",
    "        elif run.status == \"completed\":\n",
    "            print(\"The task is completed.\")\n",
    "            return run\n",
    "        \n",
    "        # If it's still in progress, wait and check again\n",
    "        elif run.status in [\"in_progress\", \"queued\"]:\n",
    "            print(\"Task is still in progress...\")\n",
    "            time.sleep(2)\n",
    "    print(f\"Run status: {run.status}\")\n"
   ]
  },
  {
   "cell_type": "code",
   "execution_count": 33,
   "metadata": {},
   "outputs": [
    {
     "data": {
      "text/plain": [
       "'Finished'"
      ]
     },
     "execution_count": 33,
     "metadata": {},
     "output_type": "execute_result"
    }
   ],
   "source": [
    "import sys \n",
    "from code_interpreter import CodeInterpreter\n",
    "\n",
    "coder = CodeInterpreter()\n",
    "\n",
    "def call_coder(code: str) -> str:\n",
    "    output = coder.execute(code)\n",
    "    sys.stdout = sys.__stdout__\n",
    "    return output\n",
    "\n",
    "call_coder(\"x = 5\")"
   ]
  },
  {
   "cell_type": "code",
   "execution_count": 18,
   "metadata": {},
   "outputs": [],
   "source": [
    "assistant = client.beta.assistants.create(\n",
    "    name = \"Math Tutor\",\n",
    "    instructions = dedent(math_tutor_prompt),\n",
    "    tools = [\n",
    "        {\n",
    "            \"type\": \"function\",\n",
    "            \"function\": {\n",
    "                \"name\": \"call_coder\",\n",
    "                \"description\": \"Call a python code interpreter to run code\",\n",
    "                \"parameters\": {\n",
    "                    \"type\": \"object\",\n",
    "                    \"properties\": {\n",
    "                        \"code\": {\n",
    "                            \"type\": \"string\",\n",
    "                            \"description\": \"The python code to run\"\n",
    "                        }\n",
    "                    },\n",
    "                    \"required\": [\"code\"]\n",
    "                }\n",
    "            }\n",
    "        }\n",
    "    ],\n",
    "    model = MODEL\n",
    ")\n",
    "\n",
    "thread = client.beta.threads.create()\n",
    "\n",
    "message = client.beta.threads.messages.create(\n",
    "    thread_id = thread.id,\n",
    "    role = \"user\",\n",
    "    content = user_question,    \n",
    ")"
   ]
  },
  {
   "cell_type": "code",
   "execution_count": 20,
   "metadata": {},
   "outputs": [],
   "source": [
    "run = client.beta.threads.runs.create_and_poll(\n",
    "    thread_id = thread.id,\n",
    "    assistant_id = assistant.id,   \n",
    ")\n",
    "\n",
    "run = check_run_status(thread.id, run.id)"
   ]
  },
  {
   "cell_type": "code",
   "execution_count": 22,
   "metadata": {},
   "outputs": [],
   "source": [
    "messages = client.beta.threads.messages.list(thread_id=thread.id)\n",
    "\n",
    "for message in messages:\n",
    "    print(f\"{message.role}: {message.content}\")"
   ]
  },
  {
   "cell_type": "code",
   "execution_count": 41,
   "metadata": {},
   "outputs": [],
   "source": [
    "def display_messages(messages):\n",
    "    for message in messages:\n",
    "        print(f\"Role: {message.role}\\nContent: {message.content}\\n{'-'*40}\")\n",
    "\n",
    "# Usage\n",
    "messages = client.beta.threads.messages.list(thread_id=thread.id)\n",
    "display_messages(messages)"
   ]
  },
  {
   "cell_type": "code",
   "execution_count": 42,
   "metadata": {},
   "outputs": [
    {
     "ename": "AttributeError",
     "evalue": "'Completions' object has no attribute 'create'",
     "output_type": "error",
     "traceback": [
      "\u001b[0;31m---------------------------------------------------------------------------\u001b[0m",
      "\u001b[0;31mAttributeError\u001b[0m                            Traceback (most recent call last)",
      "Cell \u001b[0;32mIn[42], line 84\u001b[0m\n\u001b[1;32m     65\u001b[0m math_tutor_prompt \u001b[38;5;241m=\u001b[39m \u001b[38;5;124m\"\"\"\u001b[39m\n\u001b[1;32m     66\u001b[0m \u001b[38;5;124m    You are a helpful math tutor. You will be provided with a math problem,\u001b[39m\n\u001b[1;32m     67\u001b[0m \u001b[38;5;124m    and your goal will be to output a step by step solution, along with a final answer.\u001b[39m\n\u001b[0;32m   (...)\u001b[0m\n\u001b[1;32m     70\u001b[0m \u001b[38;5;124m    You have a code interpreter available to you, so you can use it to help you solve the problem.\u001b[39m\n\u001b[1;32m     71\u001b[0m \u001b[38;5;124m\"\"\"\u001b[39m\n\u001b[1;32m     73\u001b[0m messages \u001b[38;5;241m=\u001b[39m [\n\u001b[1;32m     74\u001b[0m     {\n\u001b[1;32m     75\u001b[0m         \u001b[38;5;124m\"\u001b[39m\u001b[38;5;124mrole\u001b[39m\u001b[38;5;124m\"\u001b[39m: \u001b[38;5;124m\"\u001b[39m\u001b[38;5;124massistant\u001b[39m\u001b[38;5;124m\"\u001b[39m,\n\u001b[0;32m   (...)\u001b[0m\n\u001b[1;32m     81\u001b[0m     },\n\u001b[1;32m     82\u001b[0m ]\n\u001b[0;32m---> 84\u001b[0m response \u001b[38;5;241m=\u001b[39m \u001b[43mclient\u001b[49m\u001b[38;5;241;43m.\u001b[39;49m\u001b[43mbeta\u001b[49m\u001b[38;5;241;43m.\u001b[39;49m\u001b[43mchat\u001b[49m\u001b[38;5;241;43m.\u001b[39;49m\u001b[43mcompletions\u001b[49m\u001b[38;5;241;43m.\u001b[39;49m\u001b[43mcreate\u001b[49m(\n\u001b[1;32m     85\u001b[0m     model\u001b[38;5;241m=\u001b[39mMODEL,\n\u001b[1;32m     86\u001b[0m     messages\u001b[38;5;241m=\u001b[39mmessages,\n\u001b[1;32m     87\u001b[0m     tools\u001b[38;5;241m=\u001b[39mtools,\n\u001b[1;32m     88\u001b[0m )\n",
      "\u001b[0;31mAttributeError\u001b[0m: 'Completions' object has no attribute 'create'"
     ]
    }
   ],
   "source": [
    "# | Model                  | Description                                                                                           | Context window | Max output tokens | Training data     | 1M Tokens(USD)  |\n",
    "# |------------------------|-------------------------------------------------------------------------------------------------------|----------------|-------------------|-------------------|----|\n",
    "# | gpt-4o            | GPT-4o: Our high-intelligence flagship model for complex, multi-step tasks. GPT-4o is cheaper and faster than GPT-4 Turbo. Currently points to gpt-4o-2024-05-13. | 128,000 tokens | 4,096 tokens     | Up to Oct 2023    | $5.00 input, $15.00 output |\n",
    "# | gpt-4o-mini            | Our affordable and intelligent small model for fast, lightweight tasks. GPT-4o mini is cheaper and more capable than GPT-3.5 Turbo. Currently points to gpt-4o-mini-2024-07-18. | 128,000 tokens | 16,384 tokens     | Up to Oct 2023    | $0.15 input, $0.60 output |\n",
    "\n",
    "import sys\n",
    "import json\n",
    "import time\n",
    "from openai import OpenAI\n",
    "from textwrap import dedent\n",
    "from dotenv import load_dotenv\n",
    "from sympy import sympify, pretty\n",
    "from code_interpreter import CodeInterpreter\n",
    "\n",
    "load_dotenv()\n",
    "\n",
    "client = OpenAI()\n",
    "coder = CodeInterpreter()\n",
    "\n",
    "# MODEL = \"gpt-4o\" # expensive, larger model\n",
    "MODEL = \"gpt-4o-mini\"  # affordable, smaller model\n",
    "\n",
    "\n",
    "def print_math_solution(response):\n",
    "    result = json.loads(response)\n",
    "    steps = result[\"steps\"]\n",
    "    final_answer = result[\"final_answer\"]\n",
    "    for i in range(len(steps)):\n",
    "        print(f\"Step {i+1}: {steps[i]['explanation']}\\n\")\n",
    "        print(pretty(sympify(steps[i][\"output\"])))\n",
    "        print(\"\\n\")\n",
    "    print(f\"Final Answer: {final_answer}\")\n",
    "    print(pretty(sympify(final_answer)))\n",
    "\n",
    "\n",
    "def call_coder(code: str) -> str:\n",
    "    output = coder.execute(code)\n",
    "    sys.stdout = sys.__stdout__\n",
    "    return output\n",
    "\n",
    "\n",
    "tools = [\n",
    "    {\n",
    "        \"type\": \"function\",\n",
    "        \"function\": {\n",
    "            \"name\": \"call_coder\",\n",
    "            \"description\": \"Call a python code interpreter to run code.\",\n",
    "            \"parameters\": {\n",
    "                \"type\": \"object\",\n",
    "                \"properties\": {\n",
    "                    \"code\": {\n",
    "                        \"type\": \"string\",\n",
    "                        \"description\": \"The python code to run.\",\n",
    "                    }\n",
    "                },\n",
    "                \"required\": [\"code\"],\n",
    "            },\n",
    "        },\n",
    "    }\n",
    "]\n",
    "\n",
    "# user_question = \"How can I solve 8x + 7 = -23\"\n",
    "user_question = \"Evaluate $\\\\int sin^5(x) dx$\"\n",
    "\n",
    "math_tutor_prompt = \"\"\"\n",
    "    You are a helpful math tutor. You will be provided with a math problem,\n",
    "    and your goal will be to output a step by step solution, along with a final answer.\n",
    "    For each step, just provide the output as an equation use the explanation field to detail the reasoning.\n",
    "    If the problem is too hard, you can use python packages like sympy, numpy, scipy or even scikit-learn to help you solve it.\n",
    "    You have a code interpreter available to you, so you can use it to help you solve the problem.\n",
    "\"\"\"\n",
    "\n",
    "messages = [\n",
    "    {\n",
    "        \"role\": \"assistant\",\n",
    "        \"content\": math_tutor_prompt,\n",
    "    },\n",
    "    {\n",
    "        \"role\": \"user\",\n",
    "        \"content\": user_question,\n",
    "    },\n",
    "]\n",
    "\n",
    "for message in messages:\n",
    "    print(f\"{message['role']}: {message['content']}\")\n",
    "\n",
    "response = client.chat.completions.create(\n",
    "    model=MODEL,\n",
    "    messages=messages,\n",
    "    tools=tools,\n",
    ")"
   ]
  }
 ],
 "metadata": {
  "kernelspec": {
   "display_name": ".venv",
   "language": "python",
   "name": "python3"
  },
  "language_info": {
   "codemirror_mode": {
    "name": "ipython",
    "version": 3
   },
   "file_extension": ".py",
   "mimetype": "text/x-python",
   "name": "python",
   "nbconvert_exporter": "python",
   "pygments_lexer": "ipython3",
   "version": "3.10.12"
  }
 },
 "nbformat": 4,
 "nbformat_minor": 2
}
