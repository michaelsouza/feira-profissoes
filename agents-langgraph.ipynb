{
 "cells": [
  {
   "cell_type": "code",
   "execution_count": 9,
   "metadata": {},
   "outputs": [
    {
     "data": {
      "text/plain": [
       "True"
      ]
     },
     "execution_count": 9,
     "metadata": {},
     "output_type": "execute_result"
    }
   ],
   "source": [
    "from dotenv import load_dotenv\n",
    "\n",
    "load_dotenv()"
   ]
  },
  {
   "cell_type": "code",
   "execution_count": 4,
   "metadata": {},
   "outputs": [],
   "source": [
    "from typing import Annotated\n",
    "from typing_extensions import TypedDict \n",
    "\n",
    "from langgraph.graph import StateGraph, START, END\n",
    "from langgraph.graph.message import add_messages\n",
    "\n",
    "class State(TypedDict):\n",
    "    messages: Annotated[list[str], add_messages]\n",
    "\n",
    "graph_builder = StateGraph(State)"
   ]
  },
  {
   "cell_type": "code",
   "execution_count": 5,
   "metadata": {},
   "outputs": [],
   "source": [
    "from langchain_anthropic import ChatAnthropic\n",
    "llm = ChatAnthropic(model=\"claude-3-haiku-20240307\")\n",
    "\n",
    "def chatbot(state: State):\n",
    "    return {\"messages\": [llm.invoke(state[\"messages\"])]}\n",
    "\n",
    "# build the graph\n",
    "graph_builder.add_node(\"chatbot\", chatbot)\n",
    "graph_builder.add_edge(START, \"chatbot\")\n",
    "graph_builder.add_edge(\"chatbot\", END)\n",
    "\n",
    "# compile the graph\n",
    "graph = graph_builder.compile()"
   ]
  },
  {
   "cell_type": "code",
   "execution_count": 12,
   "metadata": {},
   "outputs": [
    {
     "data": {
      "image/jpeg": "[encoded data removed]",
      "text/plain": [
       "<IPython.core.display.Image object>"
      ]
     },
     "metadata": {},
     "output_type": "display_data"
    }
   ],
   "source": [
    "from IPython.display import Image, display\n",
    "\n",
    "try:\n",
    "    display(Image(graph.get_graph().draw_mermaid_png()))\n",
    "except:\n",
    "    pass"
   ]
  },
  {
   "cell_type": "code",
   "execution_count": 6,
   "metadata": {},
   "outputs": [
    {
     "name": "stdout",
     "output_type": "stream",
     "text": [
      "Assistant: LangGraph is a framework for developing interactive language models using knowledge graphs. It aims to combine the strengths of large language models and structured knowledge representations to create more intelligent and informative conversational agents.\n",
      "\n",
      "Some key features and capabilities of LangGraph include:\n",
      "\n",
      "1. Knowledge Integration: LangGraph allows language models to leverage structured knowledge from knowledge graphs, enabling them to reason about facts, concepts, and relationships.\n",
      "\n",
      "2. Contextual Understanding: By incorporating knowledge graph information, LangGraph models can better understand the context and semantics of language, leading to more coherent and informative responses.\n",
      "\n",
      "3. Explainability: LangGraph provides transparency into the model's reasoning process by exposing the relevant knowledge graph components used to generate responses.\n",
      "\n",
      "4. Scalability: The framework is designed to be scalable, allowing for the integration of large-scale knowledge graphs and language models.\n",
      "\n",
      "5. Versatility: LangGraph can be applied to various conversational tasks, such as question answering, task completion, and open-ended dialogue.\n",
      "\n",
      "The main idea behind LangGraph is to create more intelligent and knowledgeable conversational agents by combining the powerful language understanding capabilities of large language models with the structured knowledge and reasoning capabilities of knowledge graphs. This approach aims to improve the overall performance, interpretability, and usefulness of interactive language models.\n",
      "Assistant: Thank you for chatting with me today! I'm always happy to assist. Feel free to reach out anytime if you have any other questions or just want to chat. Take care!\n",
      "Assistant: Claro, posso responder em português brasileiro.\n",
      "Goodbye!\n"
     ]
    }
   ],
   "source": [
    "while True:\n",
    "    user_input = input(\"User: \")\n",
    "    if user_input.lower() in [\"quit\", \"exit\", \"q\"]:\n",
    "        print(\"Goodbye!\")\n",
    "        break\n",
    "    for event in graph.stream({\"messages\": (\"user\", user_input)}):\n",
    "        for value in event.values():\n",
    "            print(\"Assistant:\", value[\"messages\"][-1].content)"
   ]
  },
  {
   "cell_type": "code",
   "execution_count": 11,
   "metadata": {},
   "outputs": [],
   "source": [
    "from langchain_community.tools.tavily_search import TavilySearchResults\n",
    "\n",
    "tool = TavilySearchResults(max_results=2)\n",
    "tools = [tool]\n",
    "out = tool.invoke(\"What's a 'node' in LangGraph?\")\n"
   ]
  },
  {
   "cell_type": "code",
   "execution_count": 31,
   "metadata": {},
   "outputs": [
    {
     "name": "stdout",
     "output_type": "stream",
     "text": [
      "----------------------------------------------------------------------\n",
      "url: https://langchain-ai.github.io/langgraph/concepts/low_level/\n",
      "# Content\n",
      "Nodes¶ In LangGraph, nodes are typically python functions (sync or\n",
      "async) where the first positional argument is the state, and\n",
      "(optionally), the second positional argument is a \"config\", containing\n",
      "optional configurable parameters (such as a thread_id). Similar to\n",
      "NetworkX, you add these nodes to a graph using the add_node method:\n",
      "----------------------------------------------------------------------\n",
      "url: https://medium.com/@cplog/introduction-to-langgraph-a-beginners-guide-14f9be027141\n",
      "# Content\n",
      "Nodes: Nodes are the building blocks of your LangGraph. Each node\n",
      "represents a function or a computation step. You define nodes to\n",
      "perform specific tasks, such as processing input, making ...\n"
     ]
    }
   ],
   "source": [
    "import textwrap\n",
    "\n",
    "width = 70\n",
    "for i, c in enumerate(out):\n",
    "    print(width * '-')\n",
    "    print('url:', c['url'])\n",
    "    print('# Content')\n",
    "    print(textwrap.fill(c['content'], width=width))"
   ]
  },
  {
   "cell_type": "code",
   "execution_count": 35,
   "metadata": {},
   "outputs": [],
   "source": [
    "llm_with_tools = llm.bind_tools(tools)\n",
    "\n",
    "def chatbot(state: State):\n",
    "    return {\"messages\": [llm_with_tools.invoke(state[\"messages\"])]}\n",
    "\n",
    "graph_builder = StateGraph(State)\n",
    "graph_builder.add_node(\"chatbot\", chatbot)"
   ]
  },
  {
   "cell_type": "code",
   "execution_count": 36,
   "metadata": {},
   "outputs": [],
   "source": [
    "import json \n",
    "\n",
    "from langchain_core.messages import ToolMessage\n",
    "\n",
    "class BasicToolNode:\n",
    "    \"\"\"A node that runs the tools requested in the last AIMessage.\"\"\"\n",
    "\n",
    "    def __init__(self, tools: list) -> None:\n",
    "        self.tools_by_name = {tool.name: tool for tool in tools}\n",
    "\n",
    "    def __call__(self, inputs: dict):\n",
    "        if messages := inputs.get(\"messages\", []):\n",
    "            message = messages[-1]\n",
    "        else:\n",
    "            raise ValueError(\"No message found in input\")\n",
    "        outputs = []\n",
    "        for tool_call in message.tool_calls:\n",
    "            tool_result = self.tools_by_name[tool_call[\"name\"]].invoke(\n",
    "                tool_call[\"args\"]\n",
    "            )\n",
    "            outputs.append(\n",
    "                ToolMessage(\n",
    "                    content=json.dumps(tool_result),\n",
    "                    name=tool_call['name'],\n",
    "                    tool_call_id=tool_call['id']\n",
    "                )\n",
    "            )\n",
    "        return messages\n",
    "    \n",
    "tool_node = BasicToolNode(tools=[tool])\n",
    "graph_builder.add_node(\"tools\", tool_node)"
   ]
  },
  {
   "cell_type": "code",
   "execution_count": null,
   "metadata": {},
   "outputs": [],
   "source": []
  }
 ],
 "metadata": {
  "kernelspec": {
   "display_name": ".venv",
   "language": "python",
   "name": "python3"
  },
  "language_info": {
   "codemirror_mode": {
    "name": "ipython",
    "version": 3
   },
   "file_extension": ".py",
   "mimetype": "text/x-python",
   "name": "python",
   "nbconvert_exporter": "python",
   "pygments_lexer": "ipython3",
   "version": "3.12.3"
  }
 },
 "nbformat": 4,
 "nbformat_minor": 2
}
